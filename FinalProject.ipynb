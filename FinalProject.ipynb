{
 "cells": [
  {
   "cell_type": "markdown",
   "id": "44f8b6d0-b728-42a7-be0b-08b6e924106d",
   "metadata": {},
   "source": [
    "# Final Project (Churn Prediction)\n",
    "#### Estefania Perez & Daniel Cruz "
   ]
  },
  {
   "cell_type": "markdown",
   "id": "d0331cd8-aae2-4688-a223-e211e16db243",
   "metadata": {},
   "source": [
    "##### 1. Data Preprocessing"
   ]
  },
  {
   "cell_type": "code",
   "execution_count": null,
   "id": "aaedf3a7-d8ea-4de0-80e9-ab4387f80c7f",
   "metadata": {},
   "outputs": [],
   "source": []
  }
 ],
 "metadata": {
  "kernelspec": {
   "display_name": "Python 3 (ipykernel)",
   "language": "python",
   "name": "python3"
  },
  "language_info": {
   "codemirror_mode": {
    "name": "ipython",
    "version": 3
   },
   "file_extension": ".py",
   "mimetype": "text/x-python",
   "name": "python",
   "nbconvert_exporter": "python",
   "pygments_lexer": "ipython3",
   "version": "3.12.7"
  }
 },
 "nbformat": 4,
 "nbformat_minor": 5
}
