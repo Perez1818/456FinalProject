{
 "cells": [
  {
   "cell_type": "markdown",
   "id": "44f8b6d0-b728-42a7-be0b-08b6e924106d",
   "metadata": {},
   "source": [
    "# Final Project (Churn Prediction)\n",
    "###### Estefania Perez & Daniel Cruz "
   ]
  },
  {
   "cell_type": "markdown",
   "id": "d0331cd8-aae2-4688-a223-e211e16db243",
   "metadata": {},
   "source": [
    "### 1. Data Preprocessing"
   ]
  },
  {
   "cell_type": "code",
   "execution_count": 13,
   "id": "aaedf3a7-d8ea-4de0-80e9-ab4387f80c7f",
   "metadata": {},
   "outputs": [],
   "source": [
    "import numpy as np\n",
    "import pandas as pd\n",
    "import matplotlib.pyplot as plt\n",
    "import seaborn as sns"
   ]
  },
  {
   "cell_type": "code",
   "execution_count": 14,
   "id": "267d3c96-22c8-4430-b189-577a71d94898",
   "metadata": {},
   "outputs": [
    {
     "name": "stdout",
     "output_type": "stream",
     "text": [
      "Dataset Info:\n",
      "<class 'pandas.core.frame.DataFrame'>\n",
      "RangeIndex: 10000 entries, 0 to 9999\n",
      "Data columns (total 14 columns):\n",
      " #   Column           Non-Null Count  Dtype  \n",
      "---  ------           --------------  -----  \n",
      " 0   RowNumber        10000 non-null  int64  \n",
      " 1   CustomerId       10000 non-null  int64  \n",
      " 2   Surname          10000 non-null  object \n",
      " 3   CreditScore      10000 non-null  int64  \n",
      " 4   Geography        10000 non-null  object \n",
      " 5   Gender           10000 non-null  object \n",
      " 6   Age              10000 non-null  int64  \n",
      " 7   Tenure           10000 non-null  int64  \n",
      " 8   Balance          10000 non-null  float64\n",
      " 9   NumOfProducts    10000 non-null  int64  \n",
      " 10  HasCrCard        10000 non-null  int64  \n",
      " 11  IsActiveMember   10000 non-null  int64  \n",
      " 12  EstimatedSalary  10000 non-null  float64\n",
      " 13  Exited           10000 non-null  int64  \n",
      "dtypes: float64(2), int64(9), object(3)\n",
      "memory usage: 1.1+ MB\n",
      "None\n",
      "\n",
      "\n",
      "First 5 rows:\n",
      "   RowNumber  CustomerId   Surname  CreditScore Geography  Gender  Age  \\\n",
      "0          1    15634602  Hargrave          619    France  Female   42   \n",
      "1          2    15647311      Hill          608     Spain  Female   41   \n",
      "2          3    15619304      Onio          502    France  Female   42   \n",
      "3          4    15701354      Boni          699    France  Female   39   \n",
      "4          5    15737888  Mitchell          850     Spain  Female   43   \n",
      "\n",
      "   Tenure    Balance  NumOfProducts  HasCrCard  IsActiveMember  \\\n",
      "0       2       0.00              1          1               1   \n",
      "1       1   83807.86              1          0               1   \n",
      "2       8  159660.80              3          1               0   \n",
      "3       1       0.00              2          0               0   \n",
      "4       2  125510.82              1          1               1   \n",
      "\n",
      "   EstimatedSalary  Exited  \n",
      "0        101348.88       1  \n",
      "1        112542.58       0  \n",
      "2        113931.57       1  \n",
      "3         93826.63       0  \n",
      "4         79084.10       0  \n",
      "\n",
      "\n",
      "Dataset Shape:\n",
      "10000 rows, 14 columns\n",
      "\n",
      "Chrun Value Counts:\n",
      "Exited\n",
      "0    7963\n",
      "1    2037\n",
      "Name: count, dtype: int64\n",
      "\n",
      "\n",
      "Chrun Percentage:\n",
      " Exited\n",
      "0    79.63\n",
      "1    20.37\n",
      "Name: proportion, dtype: float64\n"
     ]
    }
   ],
   "source": [
    "# EDA Summary of Churn_Modeling Dataset\n",
    "churn_data = pd.read_csv('Churn_Modelling.csv')\n",
    "\n",
    "print(\"Dataset Info:\")\n",
    "print(churn_data.info())\n",
    "print(\"\\n\")\n",
    "\n",
    "print(\"First 5 rows:\")\n",
    "print(churn_data.head())\n",
    "print(\"\\n\")\n",
    "\n",
    "print(\"Dataset Shape:\")\n",
    "print(f\"{churn_data.shape[0]} rows, {churn_data.shape[1]} columns\\n\")\n",
    "\n",
    "print(\"Chrun Value Counts:\")\n",
    "print(churn_data['Exited'].value_counts())\n",
    "print(\"\\n\")\n",
    "print(f\"Chrun Percentage:\\n {churn_data['Exited'].value_counts(normalize=True) * 100}\")"
   ]
  },
  {
   "cell_type": "code",
   "execution_count": 15,
   "id": "b69c71e2-2442-4285-b57e-5a294694f166",
   "metadata": {
    "scrolled": true
   },
   "outputs": [
    {
     "name": "stdout",
     "output_type": "stream",
     "text": [
      "Data is now Encoded Properly:\n",
      "   CreditScore  Gender  Age  Tenure    Balance  NumOfProducts  HasCrCard  \\\n",
      "0          619       0   42       2       0.00              1          1   \n",
      "1          608       0   41       1   83807.86              1          0   \n",
      "2          502       0   42       8  159660.80              3          1   \n",
      "3          699       0   39       1       0.00              2          0   \n",
      "4          850       0   43       2  125510.82              1          1   \n",
      "\n",
      "   IsActiveMember  EstimatedSalary  Exited  Geography_Germany  Geography_Spain  \n",
      "0               1        101348.88       1              False            False  \n",
      "1               1        112542.58       0              False             True  \n",
      "2               0        113931.57       1              False            False  \n",
      "3               0         93826.63       0              False            False  \n",
      "4               1         79084.10       0              False             True  \n"
     ]
    }
   ],
   "source": [
    "'''\n",
    "Cleaning/Preparing The Chrun Data\n",
    "- Dropping Irrelevant Columns\n",
    "- Encoding Categorical Variables\n",
    "- Splitting into Train/Test Sets (80/20)\n",
    "'''\n",
    "\n",
    "#dropping irrelevant columns (RowNumber, CustomerId, Surname)\n",
    "churn_data = churn_data.drop(['RowNumber', 'CustomerId', 'Surname'], axis=1)\n",
    "\n",
    "#Encoding Categorical Variables (Gender (Binary Encoding) and Geography(One-hot encoding))\n",
    "churn_data['Gender'] = churn_data['Gender'].map({'Female': 0, 'Male':1})\n",
    "#Need to elaborate why we used get_dummies and drop_first\n",
    "churn_data = pd.get_dummies(churn_data, columns = ['Geography'], drop_first=True)\n",
    "print(\"Data is now Encoded Properly:\")\n",
    "print(churn_data.head())\n",
    "\n",
    "\n",
    "#False, False = France\n",
    "#True, False = Germany\n",
    "#False, True = Spain"
   ]
  },
  {
   "cell_type": "code",
   "execution_count": 16,
   "id": "b72e7072-49a9-4fc9-80d9-3236af798d15",
   "metadata": {},
   "outputs": [
    {
     "name": "stdout",
     "output_type": "stream",
     "text": [
      "X_train shape: (8000, 11)\n",
      "X_test shape: (2000, 11)\n",
      "y_train class distribution:\n",
      " Exited\n",
      "0    0.79625\n",
      "1    0.20375\n",
      "Name: proportion, dtype: float64\n",
      "y_test class distribution:\n",
      " Exited\n",
      "0    0.7965\n",
      "1    0.2035\n",
      "Name: proportion, dtype: float64\n"
     ]
    }
   ],
   "source": [
    "# Train-Test Split\n",
    "from sklearn.model_selection import train_test_split\n",
    "\n",
    "#Seperating features and target\n",
    "X = churn_data.drop('Exited', axis=1)\n",
    "y = churn_data['Exited']\n",
    "\n",
    "#Split into training and testing sets\n",
    "X_train, X_test, y_train, y_test = train_test_split(\n",
    "    X, y, test_size = 0.2, stratify = y, random_state = 42\n",
    ")\n",
    "print(\"X_train shape:\", X_train.shape)\n",
    "print(\"X_test shape:\", X_test.shape)\n",
    "print(\"y_train class distribution:\\n\", y_train.value_counts(normalize=True))\n",
    "print(\"y_test class distribution:\\n\", y_test.value_counts(normalize=True))"
   ]
  }
 ],
 "metadata": {
  "kernelspec": {
   "display_name": "Python 3 (ipykernel)",
   "language": "python",
   "name": "python3"
  },
  "language_info": {
   "codemirror_mode": {
    "name": "ipython",
    "version": 3
   },
   "file_extension": ".py",
   "mimetype": "text/x-python",
   "name": "python",
   "nbconvert_exporter": "python",
   "pygments_lexer": "ipython3",
   "version": "3.12.7"
  }
 },
 "nbformat": 4,
 "nbformat_minor": 5
}
