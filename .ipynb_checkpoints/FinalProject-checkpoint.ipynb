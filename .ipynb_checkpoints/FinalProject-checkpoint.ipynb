{
 "cells": [
  {
   "cell_type": "markdown",
   "id": "44f8b6d0-b728-42a7-be0b-08b6e924106d",
   "metadata": {},
   "source": [
    "# Final Project (Churn Prediction)\n",
    "#### Estefania Perez & Daniel Cruz "
   ]
  },
  {
   "cell_type": "markdown",
   "id": "d0331cd8-aae2-4688-a223-e211e16db243",
   "metadata": {},
   "source": [
    "##### 1. Data Preprocessing\n",
    "* Load the Chrun dataset into a DataFrame\n",
    "* Standardize the data: Standardize "
   ]
  },
  {
   "cell_type": "code",
   "execution_count": 1,
   "id": "aaedf3a7-d8ea-4de0-80e9-ab4387f80c7f",
   "metadata": {},
   "outputs": [],
   "source": [
    "import numpy as np\n",
    "import pandas as pd\n",
    "import matplotlib.pyplot as plt\n",
    "import seaborn as sns"
   ]
  },
  {
   "cell_type": "code",
   "execution_count": 4,
   "id": "816fe22a-b357-4df8-b5c4-9c8b5b9424fb",
   "metadata": {},
   "outputs": [
    {
     "name": "stdout",
     "output_type": "stream",
     "text": [
      "   RowNumber  CustomerId   Surname  CreditScore Geography  Gender  Age  \\\n",
      "0          1    15634602  Hargrave          619    France  Female   42   \n",
      "1          2    15647311      Hill          608     Spain  Female   41   \n",
      "2          3    15619304      Onio          502    France  Female   42   \n",
      "3          4    15701354      Boni          699    France  Female   39   \n",
      "4          5    15737888  Mitchell          850     Spain  Female   43   \n",
      "\n",
      "   Tenure    Balance  NumOfProducts  HasCrCard  IsActiveMember  \\\n",
      "0       2       0.00              1          1               1   \n",
      "1       1   83807.86              1          0               1   \n",
      "2       8  159660.80              3          1               0   \n",
      "3       1       0.00              2          0               0   \n",
      "4       2  125510.82              1          1               1   \n",
      "\n",
      "   EstimatedSalary  Exited  \n",
      "0        101348.88       1  \n",
      "1        112542.58       0  \n",
      "2        113931.57       1  \n",
      "3         93826.63       0  \n",
      "4         79084.10       0  \n"
     ]
    }
   ],
   "source": [
    "chrun_data = pd.read_csv('Churn_Modelling.csv')\n",
    "print(chrun_data.head())"
   ]
  },
  {
   "cell_type": "code",
   "execution_count": null,
   "id": "46cfc3de-5092-4bb2-b18d-427812aeac5d",
   "metadata": {},
   "outputs": [],
   "source": []
  }
 ],
 "metadata": {
  "kernelspec": {
   "display_name": "Python 3 (ipykernel)",
   "language": "python",
   "name": "python3"
  },
  "language_info": {
   "codemirror_mode": {
    "name": "ipython",
    "version": 3
   },
   "file_extension": ".py",
   "mimetype": "text/x-python",
   "name": "python",
   "nbconvert_exporter": "python",
   "pygments_lexer": "ipython3",
   "version": "3.12.7"
  }
 },
 "nbformat": 4,
 "nbformat_minor": 5
}
